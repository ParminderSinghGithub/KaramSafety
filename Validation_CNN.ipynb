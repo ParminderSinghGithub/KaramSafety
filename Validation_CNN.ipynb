{
  "nbformat": 4,
  "nbformat_minor": 0,
  "metadata": {
    "colab": {
      "provenance": []
    },
    "kernelspec": {
      "name": "python3",
      "display_name": "Python 3"
    },
    "language_info": {
      "name": "python"
    }
  },
  "cells": [
    {
      "cell_type": "code",
      "execution_count": 15,
      "metadata": {
        "id": "t2DOE0p5Vrbz"
      },
      "outputs": [],
      "source": [
        "import zipfile\n",
        "import os"
      ]
    },
    {
      "cell_type": "code",
      "source": [
        "#unzip the folder\n",
        "zip_path = \"/content/v3_validation.zip\"\n",
        "extract_path = \"/content/v3unzip_validation1\"  # target directory to extract\n",
        "\n",
        "with zipfile.ZipFile(zip_path, 'r') as zip_ref:\n",
        "    zip_ref.extractall(extract_path)\n",
        "\n",
        "print(f\"Extracted ZIP to: {extract_path}\\n\")\n",
        "\n",
        "# Step 2: Walk through subfolders and count CSV files\n",
        "csv_counts = {}\n",
        "\n",
        "for root, dirs, files in os.walk(extract_path):\n",
        "    csv_files = [file for file in files if file.endswith('.csv')]\n",
        "    if csv_files:\n",
        "        relative_path = os.path.relpath(root, extract_path)\n",
        "        csv_counts[relative_path] = len(csv_files)\n"
      ],
      "metadata": {
        "colab": {
          "base_uri": "https://localhost:8080/"
        },
        "id": "ddWkGYET6jGu",
        "outputId": "c4c942bc-6541-4391-b064-66a1f49922a5"
      },
      "execution_count": 31,
      "outputs": [
        {
          "output_type": "stream",
          "name": "stdout",
          "text": [
            "Extracted ZIP to: /content/v3unzip_validation1\n",
            "\n"
          ]
        }
      ]
    },
    {
      "cell_type": "code",
      "source": [
        "# Walk through subfolders and count CSV files\n",
        "csv_counts = {}\n",
        "\n",
        "for root, dirs, files in os.walk(extract_path):\n",
        "    csv_files = [file for file in files if file.endswith('.csv')]\n",
        "    if csv_files:\n",
        "        relative_path = os.path.relpath(root, extract_path)\n",
        "        csv_counts[relative_path] = len(csv_files)\n",
        "\n",
        "# Step 3: Print results\n",
        "print(\"CSV file count by subfolder:\\n\")\n",
        "for folder, count in csv_counts.items():\n",
        "    print(f\"{folder}: {count} CSV file(s)\")"
      ],
      "metadata": {
        "colab": {
          "base_uri": "https://localhost:8080/"
        },
        "id": "ft3XhoQC8NDz",
        "outputId": "3364fba9-2a33-4d51-8830-8f98c9947cc7"
      },
      "execution_count": 32,
      "outputs": [
        {
          "output_type": "stream",
          "name": "stdout",
          "text": [
            "CSV file count by subfolder:\n",
            "\n",
            "v3_validation/v3/test/with_hook_climbing_up: 3 CSV file(s)\n",
            "v3_validation/v3/test/without_hook_climbing_up: 6 CSV file(s)\n",
            "v3_validation/v3/test/idle: 3 CSV file(s)\n",
            "v3_validation/v3/test/with_hook_descending_down: 3 CSV file(s)\n",
            "v3_validation/v3/test/without_hook_descending_down: 6 CSV file(s)\n",
            "v3_validation/v3/Validation/with_hook_climbing_up: 1 CSV file(s)\n",
            "v3_validation/v3/Validation/without_hook_climbing_up: 1 CSV file(s)\n",
            "v3_validation/v3/Validation/idle: 1 CSV file(s)\n",
            "v3_validation/v3/Validation/with_hook_descending_down: 1 CSV file(s)\n",
            "v3_validation/v3/Validation/without_hook_descending_down: 1 CSV file(s)\n",
            "v3_validation/v3/train/with_hook_climbing_up: 16 CSV file(s)\n",
            "v3_validation/v3/train/without_hook_climbing_up: 44 CSV file(s)\n",
            "v3_validation/v3/train/idle: 21 CSV file(s)\n",
            "v3_validation/v3/train/with_hook_descending_down: 19 CSV file(s)\n",
            "v3_validation/v3/train/without_hook_descending_down: 44 CSV file(s)\n"
          ]
        }
      ]
    },
    {
      "cell_type": "code",
      "source": [
        "import os\n",
        "import numpy as np\n",
        "import pandas as pd\n",
        "\n",
        "def load_dataset_for_cnn(folder_path, max_timesteps=None):\n",
        "    X = []\n",
        "    y = []\n",
        "    class_map = {}\n",
        "\n",
        "    for class_index, class_name in enumerate(sorted(os.listdir(folder_path))):\n",
        "        class_dir = os.path.join(folder_path, class_name)\n",
        "        if not os.path.isdir(class_dir):\n",
        "            continue\n",
        "\n",
        "        class_map[class_index] = class_name\n",
        "\n",
        "        for file in os.listdir(class_dir):\n",
        "            if file.endswith(\".csv\"):\n",
        "                file_path = os.path.join(class_dir, file)\n",
        "                df = pd.read_csv(file_path)\n",
        "\n",
        "                df = df.dropna(axis=1, how='any')  # Drop any columns with NaN\n",
        "\n",
        "                X.append(df.values)\n",
        "                y.append(class_index)\n",
        "\n",
        "    if len(X) == 0:\n",
        "        raise ValueError(\"No data loaded. Check if CSV files exist in the folder structure.\")\n",
        "\n",
        "    # Determine max timesteps if not provided\n",
        "    if max_timesteps is None:\n",
        "        max_timesteps = max([sample.shape[0] for sample in X])\n",
        "\n",
        "    # Pad or truncate each sample to max_timesteps\n",
        "    X_padded = []\n",
        "    for sample in X:\n",
        "        if sample.shape[0] < max_timesteps:\n",
        "            pad_width = max_timesteps - sample.shape[0]\n",
        "            padded = np.pad(sample, ((0, pad_width), (0, 0)), mode='constant')\n",
        "        else:\n",
        "            padded = sample[:max_timesteps, :]\n",
        "        X_padded.append(padded)\n",
        "\n",
        "    return np.stack(X_padded), np.array(y), class_map\n"
      ],
      "metadata": {
        "id": "9m2GxgryfedT"
      },
      "execution_count": 33,
      "outputs": []
    },
    {
      "cell_type": "code",
      "source": [
        "train_path = \"/content/v3unzip_validation1/v3_validation/v3/train\"\n",
        "test_path = \"/content/v3unzip_validation1/v3_validation/v3/test\"\n",
        "validation_path = \"/content/v3unzip_validation1/v3_validation/v3/Validation\"\n",
        "\n",
        "X_train, y_train, class_map = load_dataset_for_cnn(train_path)\n",
        "X_test, y_test, _ = load_dataset_for_cnn(test_path)\n",
        "X_validation, y_validation, _ = load_dataset_for_cnn(validation_path)\n",
        "\n",
        "print(\"Train shape:\", X_train.shape)\n",
        "print(\"Test shape:\", X_test.shape)\n",
        "print(\"Validation shape:\", X_validation.shape)\n"
      ],
      "metadata": {
        "colab": {
          "base_uri": "https://localhost:8080/"
        },
        "id": "6Eq8nGBzbKjh",
        "outputId": "05c86589-5da6-4b57-ad7d-6ec89e896472"
      },
      "execution_count": 35,
      "outputs": [
        {
          "output_type": "stream",
          "name": "stdout",
          "text": [
            "Train shape: (144, 1986, 12)\n",
            "Test shape: (21, 650, 12)\n",
            "Validation shape: (5, 807, 12)\n"
          ]
        }
      ]
    },
    {
      "cell_type": "code",
      "source": [
        "MAX_TIMESTEPS = 1986\n",
        "\n",
        "X_train, y_train, class_map = load_dataset_for_cnn(train_path, max_timesteps=MAX_TIMESTEPS)\n",
        "X_test, y_test, _ = load_dataset_for_cnn(test_path, max_timesteps=MAX_TIMESTEPS)\n",
        "X_validation, y_validation, _ = load_dataset_for_cnn(validation_path, max_timesteps=MAX_TIMESTEPS)\n"
      ],
      "metadata": {
        "id": "yZV72pvshe6C"
      },
      "execution_count": 36,
      "outputs": []
    },
    {
      "cell_type": "code",
      "source": [
        "import numpy as np\n",
        "\n",
        "def handle_nan(X):\n",
        "    X_nan_handled = np.copy(X)\n",
        "    for i in range(X.shape[0]):\n",
        "        for j in range(X.shape[2]):\n",
        "            feature_column = X[i, :, j]\n",
        "            nan_mask = np.isnan(feature_column)\n",
        "            if np.any(nan_mask):\n",
        "                mean_val = np.nanmean(feature_column)\n",
        "                feature_column[nan_mask] = mean_val\n",
        "            X_nan_handled[i, :, j] = feature_column\n",
        "    return X_nan_handled\n",
        "\n",
        "X_train = handle_nan(X_train)\n",
        "X_test = handle_nan(X_test)\n",
        "X_validation = handle_nan(X_validation)"
      ],
      "metadata": {
        "id": "Acchg5v_cGBJ"
      },
      "execution_count": 37,
      "outputs": []
    },
    {
      "cell_type": "code",
      "source": [
        "# Compute mean and std from training set only\n",
        "mean = np.mean(X_train, axis=(0, 1), keepdims=True)\n",
        "std = np.std(X_train, axis=(0, 1), keepdims=True)\n",
        "X_train = (X_train - mean) / (std + 1e-8)\n",
        "X_test = (X_test - mean) / (std + 1e-8)\n",
        "X_validation = (X_validation - mean) / (std + 1e-8)"
      ],
      "metadata": {
        "id": "4e7kJ4_2cM_n"
      },
      "execution_count": 38,
      "outputs": []
    },
    {
      "cell_type": "code",
      "source": [
        "def extract_features(X):\n",
        "    mean_feat = np.mean(X, axis=1)\n",
        "    std_feat = np.std(X, axis=1)\n",
        "    max_feat = np.max(X, axis=1)\n",
        "    min_feat = np.min(X, axis=1)\n",
        "    return np.concatenate([mean_feat, std_feat, max_feat, min_feat], axis=1)"
      ],
      "metadata": {
        "id": "90Dk9V-9chPC"
      },
      "execution_count": 39,
      "outputs": []
    },
    {
      "cell_type": "code",
      "source": [
        "from sklearn.ensemble import RandomForestClassifier\n",
        "from sklearn.preprocessing import StandardScaler\n",
        "\n",
        "# Extract statistical features\n",
        "X_train_feat = extract_features(X_train)\n",
        "X_test_feat = extract_features(X_test)\n",
        "X_validation_feat = extract_features(X_validation)\n",
        "\n",
        "# Normalize\n",
        "scaler = StandardScaler()\n",
        "X_train_feat_scaled = scaler.fit_transform(X_train_feat)\n",
        "X_test_feat_scaled = scaler.transform(X_test_feat)\n",
        "X_validation_feat_scaled = scaler.transform(X_validation_feat)\n",
        "\n",
        "# Feature Importance\n",
        "rf = RandomForestClassifier(n_estimators=100, random_state=42)\n",
        "rf.fit(X_train_feat_scaled, y_train)\n",
        "importances = rf.feature_importances_\n",
        "\n",
        "# Select top-k features\n",
        "top_k = 20\n",
        "indices = np.argsort(importances)[-top_k:]\n",
        "\n",
        "X_train_selected = X_train_feat_scaled[:, indices]\n",
        "X_test_selected = X_test_feat_scaled[:, indices]\n",
        "X_validation_selected = X_validation_feat_scaled[:, indices]\n"
      ],
      "metadata": {
        "id": "YXrdoXiVcleW"
      },
      "execution_count": 40,
      "outputs": []
    },
    {
      "cell_type": "markdown",
      "source": [
        "**add the selected features as extra channels to each time-series sample**"
      ],
      "metadata": {
        "id": "wWVPWwIcd71J"
      }
    },
    {
      "cell_type": "code",
      "source": [
        "def append_features_to_sequence(X_seq, X_features):\n",
        "    X_features_expanded = np.repeat(X_features[:, np.newaxis, :], X_seq.shape[1], axis=1)\n",
        "    return np.concatenate((X_seq, X_features_expanded), axis=2)\n",
        "\n",
        "# Apply to all datasets\n",
        "X_train_fused = append_features_to_sequence(X_train, X_train_selected)\n",
        "X_test_fused = append_features_to_sequence(X_test, X_test_selected)\n",
        "X_validation_fused = append_features_to_sequence(X_validation, X_validation_selected)\n",
        "\n",
        "print(\"New CNN input shape (Train):\", X_train_fused.shape)\n",
        "print(\"New CNN input shape (Test):\", X_test_fused.shape)\n",
        "print(\"New CNN input shape (Validation):\", X_validation_fused.shape)\n"
      ],
      "metadata": {
        "colab": {
          "base_uri": "https://localhost:8080/"
        },
        "id": "qq1Uxsw6d6QO",
        "outputId": "54ff26f2-5491-4e00-e06c-7f6914c3928e"
      },
      "execution_count": 41,
      "outputs": [
        {
          "output_type": "stream",
          "name": "stdout",
          "text": [
            "New CNN input shape (Train): (144, 1986, 32)\n",
            "New CNN input shape (Test): (21, 1986, 32)\n",
            "New CNN input shape (Validation): (5, 1986, 32)\n"
          ]
        }
      ]
    },
    {
      "cell_type": "code",
      "source": [
        "print(\"Train set shape:\", X_train_fused.shape, y_train.shape)\n",
        "print(\"Test set shape:\", X_test_fused.shape, y_test.shape)\n",
        "print(\"Validation set shape:\", X_validation_fused.shape, y_validation.shape)"
      ],
      "metadata": {
        "colab": {
          "base_uri": "https://localhost:8080/"
        },
        "id": "pWEGwDqUe3U0",
        "outputId": "94f63b84-fec3-48dc-8ee4-02ad1415d93b"
      },
      "execution_count": 42,
      "outputs": [
        {
          "output_type": "stream",
          "name": "stdout",
          "text": [
            "Train set shape: (144, 1986, 32) (144,)\n",
            "Test set shape: (21, 1986, 32) (21,)\n",
            "Validation set shape: (5, 1986, 32) (5,)\n"
          ]
        }
      ]
    },
    {
      "cell_type": "code",
      "source": [
        "import tensorflow as tf\n",
        "from tensorflow.keras.models import Sequential\n",
        "from tensorflow.keras.layers import Conv1D, MaxPooling1D, Flatten, Dense, Dropout, BatchNormalization\n",
        "from tensorflow.keras.callbacks import EarlyStopping\n",
        "\n",
        "# One-hot encode labels\n",
        "num_classes = len(np.unique(y_train))\n",
        "y_train_cat = tf.keras.utils.to_categorical(y_train, num_classes)\n",
        "y_test_cat = tf.keras.utils.to_categorical(y_test, num_classes)\n",
        "y_validation_cat = tf.keras.utils.to_categorical(y_validation, num_classes)\n",
        "\n",
        "input_shape = X_train_fused.shape[1:]\n",
        "\n",
        "#Cnn model\n",
        "model = Sequential([\n",
        "    Conv1D(filters=64, kernel_size=5, activation='relu', input_shape=input_shape),\n",
        "    BatchNormalization(),\n",
        "    MaxPooling1D(pool_size=2),\n",
        "    Dropout(0.3),\n",
        "\n",
        "    Conv1D(filters=128, kernel_size=3, activation='relu'),\n",
        "    BatchNormalization(),\n",
        "    MaxPooling1D(pool_size=2),\n",
        "    Dropout(0.3),\n",
        "\n",
        "    Flatten(),\n",
        "    Dense(128, activation='relu'),\n",
        "    Dropout(0.4),\n",
        "    Dense(len(np.unique(y_train)), activation='softmax')  # Number of classes\n",
        "])\n",
        "\n",
        "# Compile\n",
        "model.compile(optimizer='adam',\n",
        "              loss='categorical_crossentropy',\n",
        "              metrics=['accuracy'])\n",
        "\n",
        "# Summary\n",
        "model.summary()\n",
        "\n",
        "# Train\n",
        "early_stop = EarlyStopping(monitor='val_loss', patience=5, restore_best_weights=True)\n",
        "\n",
        "history = model.fit(X_train_fused, y_train_cat,\n",
        "                    epochs=50,\n",
        "                    batch_size=32,\n",
        "                    validation_data= (X_validation_fused, y_validation_cat),\n",
        "                    callbacks=[early_stop])\n"
      ],
      "metadata": {
        "colab": {
          "base_uri": "https://localhost:8080/",
          "height": 1000
        },
        "id": "tk-UrFZ9fJka",
        "outputId": "1f98e537-ab45-440d-8cca-be336d4eb635"
      },
      "execution_count": 43,
      "outputs": [
        {
          "output_type": "stream",
          "name": "stderr",
          "text": [
            "/usr/local/lib/python3.11/dist-packages/keras/src/layers/convolutional/base_conv.py:107: UserWarning: Do not pass an `input_shape`/`input_dim` argument to a layer. When using Sequential models, prefer using an `Input(shape)` object as the first layer in the model instead.\n",
            "  super().__init__(activity_regularizer=activity_regularizer, **kwargs)\n"
          ]
        },
        {
          "output_type": "display_data",
          "data": {
            "text/plain": [
              "\u001b[1mModel: \"sequential_1\"\u001b[0m\n"
            ],
            "text/html": [
              "<pre style=\"white-space:pre;overflow-x:auto;line-height:normal;font-family:Menlo,'DejaVu Sans Mono',consolas,'Courier New',monospace\"><span style=\"font-weight: bold\">Model: \"sequential_1\"</span>\n",
              "</pre>\n"
            ]
          },
          "metadata": {}
        },
        {
          "output_type": "display_data",
          "data": {
            "text/plain": [
              "┏━━━━━━━━━━━━━━━━━━━━━━━━━━━━━━━━━┳━━━━━━━━━━━━━━━━━━━━━━━━┳━━━━━━━━━━━━━━━┓\n",
              "┃\u001b[1m \u001b[0m\u001b[1mLayer (type)                   \u001b[0m\u001b[1m \u001b[0m┃\u001b[1m \u001b[0m\u001b[1mOutput Shape          \u001b[0m\u001b[1m \u001b[0m┃\u001b[1m \u001b[0m\u001b[1m      Param #\u001b[0m\u001b[1m \u001b[0m┃\n",
              "┡━━━━━━━━━━━━━━━━━━━━━━━━━━━━━━━━━╇━━━━━━━━━━━━━━━━━━━━━━━━╇━━━━━━━━━━━━━━━┩\n",
              "│ conv1d_2 (\u001b[38;5;33mConv1D\u001b[0m)               │ (\u001b[38;5;45mNone\u001b[0m, \u001b[38;5;34m1982\u001b[0m, \u001b[38;5;34m64\u001b[0m)       │        \u001b[38;5;34m10,304\u001b[0m │\n",
              "├─────────────────────────────────┼────────────────────────┼───────────────┤\n",
              "│ batch_normalization_2           │ (\u001b[38;5;45mNone\u001b[0m, \u001b[38;5;34m1982\u001b[0m, \u001b[38;5;34m64\u001b[0m)       │           \u001b[38;5;34m256\u001b[0m │\n",
              "│ (\u001b[38;5;33mBatchNormalization\u001b[0m)            │                        │               │\n",
              "├─────────────────────────────────┼────────────────────────┼───────────────┤\n",
              "│ max_pooling1d_2 (\u001b[38;5;33mMaxPooling1D\u001b[0m)  │ (\u001b[38;5;45mNone\u001b[0m, \u001b[38;5;34m991\u001b[0m, \u001b[38;5;34m64\u001b[0m)        │             \u001b[38;5;34m0\u001b[0m │\n",
              "├─────────────────────────────────┼────────────────────────┼───────────────┤\n",
              "│ dropout_3 (\u001b[38;5;33mDropout\u001b[0m)             │ (\u001b[38;5;45mNone\u001b[0m, \u001b[38;5;34m991\u001b[0m, \u001b[38;5;34m64\u001b[0m)        │             \u001b[38;5;34m0\u001b[0m │\n",
              "├─────────────────────────────────┼────────────────────────┼───────────────┤\n",
              "│ conv1d_3 (\u001b[38;5;33mConv1D\u001b[0m)               │ (\u001b[38;5;45mNone\u001b[0m, \u001b[38;5;34m989\u001b[0m, \u001b[38;5;34m128\u001b[0m)       │        \u001b[38;5;34m24,704\u001b[0m │\n",
              "├─────────────────────────────────┼────────────────────────┼───────────────┤\n",
              "│ batch_normalization_3           │ (\u001b[38;5;45mNone\u001b[0m, \u001b[38;5;34m989\u001b[0m, \u001b[38;5;34m128\u001b[0m)       │           \u001b[38;5;34m512\u001b[0m │\n",
              "│ (\u001b[38;5;33mBatchNormalization\u001b[0m)            │                        │               │\n",
              "├─────────────────────────────────┼────────────────────────┼───────────────┤\n",
              "│ max_pooling1d_3 (\u001b[38;5;33mMaxPooling1D\u001b[0m)  │ (\u001b[38;5;45mNone\u001b[0m, \u001b[38;5;34m494\u001b[0m, \u001b[38;5;34m128\u001b[0m)       │             \u001b[38;5;34m0\u001b[0m │\n",
              "├─────────────────────────────────┼────────────────────────┼───────────────┤\n",
              "│ dropout_4 (\u001b[38;5;33mDropout\u001b[0m)             │ (\u001b[38;5;45mNone\u001b[0m, \u001b[38;5;34m494\u001b[0m, \u001b[38;5;34m128\u001b[0m)       │             \u001b[38;5;34m0\u001b[0m │\n",
              "├─────────────────────────────────┼────────────────────────┼───────────────┤\n",
              "│ flatten_1 (\u001b[38;5;33mFlatten\u001b[0m)             │ (\u001b[38;5;45mNone\u001b[0m, \u001b[38;5;34m63232\u001b[0m)          │             \u001b[38;5;34m0\u001b[0m │\n",
              "├─────────────────────────────────┼────────────────────────┼───────────────┤\n",
              "│ dense_2 (\u001b[38;5;33mDense\u001b[0m)                 │ (\u001b[38;5;45mNone\u001b[0m, \u001b[38;5;34m128\u001b[0m)            │     \u001b[38;5;34m8,093,824\u001b[0m │\n",
              "├─────────────────────────────────┼────────────────────────┼───────────────┤\n",
              "│ dropout_5 (\u001b[38;5;33mDropout\u001b[0m)             │ (\u001b[38;5;45mNone\u001b[0m, \u001b[38;5;34m128\u001b[0m)            │             \u001b[38;5;34m0\u001b[0m │\n",
              "├─────────────────────────────────┼────────────────────────┼───────────────┤\n",
              "│ dense_3 (\u001b[38;5;33mDense\u001b[0m)                 │ (\u001b[38;5;45mNone\u001b[0m, \u001b[38;5;34m5\u001b[0m)              │           \u001b[38;5;34m645\u001b[0m │\n",
              "└─────────────────────────────────┴────────────────────────┴───────────────┘\n"
            ],
            "text/html": [
              "<pre style=\"white-space:pre;overflow-x:auto;line-height:normal;font-family:Menlo,'DejaVu Sans Mono',consolas,'Courier New',monospace\">┏━━━━━━━━━━━━━━━━━━━━━━━━━━━━━━━━━┳━━━━━━━━━━━━━━━━━━━━━━━━┳━━━━━━━━━━━━━━━┓\n",
              "┃<span style=\"font-weight: bold\"> Layer (type)                    </span>┃<span style=\"font-weight: bold\"> Output Shape           </span>┃<span style=\"font-weight: bold\">       Param # </span>┃\n",
              "┡━━━━━━━━━━━━━━━━━━━━━━━━━━━━━━━━━╇━━━━━━━━━━━━━━━━━━━━━━━━╇━━━━━━━━━━━━━━━┩\n",
              "│ conv1d_2 (<span style=\"color: #0087ff; text-decoration-color: #0087ff\">Conv1D</span>)               │ (<span style=\"color: #00d7ff; text-decoration-color: #00d7ff\">None</span>, <span style=\"color: #00af00; text-decoration-color: #00af00\">1982</span>, <span style=\"color: #00af00; text-decoration-color: #00af00\">64</span>)       │        <span style=\"color: #00af00; text-decoration-color: #00af00\">10,304</span> │\n",
              "├─────────────────────────────────┼────────────────────────┼───────────────┤\n",
              "│ batch_normalization_2           │ (<span style=\"color: #00d7ff; text-decoration-color: #00d7ff\">None</span>, <span style=\"color: #00af00; text-decoration-color: #00af00\">1982</span>, <span style=\"color: #00af00; text-decoration-color: #00af00\">64</span>)       │           <span style=\"color: #00af00; text-decoration-color: #00af00\">256</span> │\n",
              "│ (<span style=\"color: #0087ff; text-decoration-color: #0087ff\">BatchNormalization</span>)            │                        │               │\n",
              "├─────────────────────────────────┼────────────────────────┼───────────────┤\n",
              "│ max_pooling1d_2 (<span style=\"color: #0087ff; text-decoration-color: #0087ff\">MaxPooling1D</span>)  │ (<span style=\"color: #00d7ff; text-decoration-color: #00d7ff\">None</span>, <span style=\"color: #00af00; text-decoration-color: #00af00\">991</span>, <span style=\"color: #00af00; text-decoration-color: #00af00\">64</span>)        │             <span style=\"color: #00af00; text-decoration-color: #00af00\">0</span> │\n",
              "├─────────────────────────────────┼────────────────────────┼───────────────┤\n",
              "│ dropout_3 (<span style=\"color: #0087ff; text-decoration-color: #0087ff\">Dropout</span>)             │ (<span style=\"color: #00d7ff; text-decoration-color: #00d7ff\">None</span>, <span style=\"color: #00af00; text-decoration-color: #00af00\">991</span>, <span style=\"color: #00af00; text-decoration-color: #00af00\">64</span>)        │             <span style=\"color: #00af00; text-decoration-color: #00af00\">0</span> │\n",
              "├─────────────────────────────────┼────────────────────────┼───────────────┤\n",
              "│ conv1d_3 (<span style=\"color: #0087ff; text-decoration-color: #0087ff\">Conv1D</span>)               │ (<span style=\"color: #00d7ff; text-decoration-color: #00d7ff\">None</span>, <span style=\"color: #00af00; text-decoration-color: #00af00\">989</span>, <span style=\"color: #00af00; text-decoration-color: #00af00\">128</span>)       │        <span style=\"color: #00af00; text-decoration-color: #00af00\">24,704</span> │\n",
              "├─────────────────────────────────┼────────────────────────┼───────────────┤\n",
              "│ batch_normalization_3           │ (<span style=\"color: #00d7ff; text-decoration-color: #00d7ff\">None</span>, <span style=\"color: #00af00; text-decoration-color: #00af00\">989</span>, <span style=\"color: #00af00; text-decoration-color: #00af00\">128</span>)       │           <span style=\"color: #00af00; text-decoration-color: #00af00\">512</span> │\n",
              "│ (<span style=\"color: #0087ff; text-decoration-color: #0087ff\">BatchNormalization</span>)            │                        │               │\n",
              "├─────────────────────────────────┼────────────────────────┼───────────────┤\n",
              "│ max_pooling1d_3 (<span style=\"color: #0087ff; text-decoration-color: #0087ff\">MaxPooling1D</span>)  │ (<span style=\"color: #00d7ff; text-decoration-color: #00d7ff\">None</span>, <span style=\"color: #00af00; text-decoration-color: #00af00\">494</span>, <span style=\"color: #00af00; text-decoration-color: #00af00\">128</span>)       │             <span style=\"color: #00af00; text-decoration-color: #00af00\">0</span> │\n",
              "├─────────────────────────────────┼────────────────────────┼───────────────┤\n",
              "│ dropout_4 (<span style=\"color: #0087ff; text-decoration-color: #0087ff\">Dropout</span>)             │ (<span style=\"color: #00d7ff; text-decoration-color: #00d7ff\">None</span>, <span style=\"color: #00af00; text-decoration-color: #00af00\">494</span>, <span style=\"color: #00af00; text-decoration-color: #00af00\">128</span>)       │             <span style=\"color: #00af00; text-decoration-color: #00af00\">0</span> │\n",
              "├─────────────────────────────────┼────────────────────────┼───────────────┤\n",
              "│ flatten_1 (<span style=\"color: #0087ff; text-decoration-color: #0087ff\">Flatten</span>)             │ (<span style=\"color: #00d7ff; text-decoration-color: #00d7ff\">None</span>, <span style=\"color: #00af00; text-decoration-color: #00af00\">63232</span>)          │             <span style=\"color: #00af00; text-decoration-color: #00af00\">0</span> │\n",
              "├─────────────────────────────────┼────────────────────────┼───────────────┤\n",
              "│ dense_2 (<span style=\"color: #0087ff; text-decoration-color: #0087ff\">Dense</span>)                 │ (<span style=\"color: #00d7ff; text-decoration-color: #00d7ff\">None</span>, <span style=\"color: #00af00; text-decoration-color: #00af00\">128</span>)            │     <span style=\"color: #00af00; text-decoration-color: #00af00\">8,093,824</span> │\n",
              "├─────────────────────────────────┼────────────────────────┼───────────────┤\n",
              "│ dropout_5 (<span style=\"color: #0087ff; text-decoration-color: #0087ff\">Dropout</span>)             │ (<span style=\"color: #00d7ff; text-decoration-color: #00d7ff\">None</span>, <span style=\"color: #00af00; text-decoration-color: #00af00\">128</span>)            │             <span style=\"color: #00af00; text-decoration-color: #00af00\">0</span> │\n",
              "├─────────────────────────────────┼────────────────────────┼───────────────┤\n",
              "│ dense_3 (<span style=\"color: #0087ff; text-decoration-color: #0087ff\">Dense</span>)                 │ (<span style=\"color: #00d7ff; text-decoration-color: #00d7ff\">None</span>, <span style=\"color: #00af00; text-decoration-color: #00af00\">5</span>)              │           <span style=\"color: #00af00; text-decoration-color: #00af00\">645</span> │\n",
              "└─────────────────────────────────┴────────────────────────┴───────────────┘\n",
              "</pre>\n"
            ]
          },
          "metadata": {}
        },
        {
          "output_type": "display_data",
          "data": {
            "text/plain": [
              "\u001b[1m Total params: \u001b[0m\u001b[38;5;34m8,130,245\u001b[0m (31.01 MB)\n"
            ],
            "text/html": [
              "<pre style=\"white-space:pre;overflow-x:auto;line-height:normal;font-family:Menlo,'DejaVu Sans Mono',consolas,'Courier New',monospace\"><span style=\"font-weight: bold\"> Total params: </span><span style=\"color: #00af00; text-decoration-color: #00af00\">8,130,245</span> (31.01 MB)\n",
              "</pre>\n"
            ]
          },
          "metadata": {}
        },
        {
          "output_type": "display_data",
          "data": {
            "text/plain": [
              "\u001b[1m Trainable params: \u001b[0m\u001b[38;5;34m8,129,861\u001b[0m (31.01 MB)\n"
            ],
            "text/html": [
              "<pre style=\"white-space:pre;overflow-x:auto;line-height:normal;font-family:Menlo,'DejaVu Sans Mono',consolas,'Courier New',monospace\"><span style=\"font-weight: bold\"> Trainable params: </span><span style=\"color: #00af00; text-decoration-color: #00af00\">8,129,861</span> (31.01 MB)\n",
              "</pre>\n"
            ]
          },
          "metadata": {}
        },
        {
          "output_type": "display_data",
          "data": {
            "text/plain": [
              "\u001b[1m Non-trainable params: \u001b[0m\u001b[38;5;34m384\u001b[0m (1.50 KB)\n"
            ],
            "text/html": [
              "<pre style=\"white-space:pre;overflow-x:auto;line-height:normal;font-family:Menlo,'DejaVu Sans Mono',consolas,'Courier New',monospace\"><span style=\"font-weight: bold\"> Non-trainable params: </span><span style=\"color: #00af00; text-decoration-color: #00af00\">384</span> (1.50 KB)\n",
              "</pre>\n"
            ]
          },
          "metadata": {}
        },
        {
          "output_type": "stream",
          "name": "stdout",
          "text": [
            "Epoch 1/50\n",
            "\u001b[1m5/5\u001b[0m \u001b[32m━━━━━━━━━━━━━━━━━━━━\u001b[0m\u001b[37m\u001b[0m \u001b[1m6s\u001b[0m 477ms/step - accuracy: 0.4770 - loss: 5.5380 - val_accuracy: 0.6000 - val_loss: 2.1183\n",
            "Epoch 2/50\n",
            "\u001b[1m5/5\u001b[0m \u001b[32m━━━━━━━━━━━━━━━━━━━━\u001b[0m\u001b[37m\u001b[0m \u001b[1m8s\u001b[0m 1s/step - accuracy: 0.8440 - loss: 3.6092 - val_accuracy: 0.8000 - val_loss: 0.9196\n",
            "Epoch 3/50\n",
            "\u001b[1m5/5\u001b[0m \u001b[32m━━━━━━━━━━━━━━━━━━━━\u001b[0m\u001b[37m\u001b[0m \u001b[1m7s\u001b[0m 400ms/step - accuracy: 0.9265 - loss: 1.1636 - val_accuracy: 1.0000 - val_loss: 0.0222\n",
            "Epoch 4/50\n",
            "\u001b[1m5/5\u001b[0m \u001b[32m━━━━━━━━━━━━━━━━━━━━\u001b[0m\u001b[37m\u001b[0m \u001b[1m2s\u001b[0m 391ms/step - accuracy: 0.9664 - loss: 0.4238 - val_accuracy: 1.0000 - val_loss: 0.0019\n",
            "Epoch 5/50\n",
            "\u001b[1m5/5\u001b[0m \u001b[32m━━━━━━━━━━━━━━━━━━━━\u001b[0m\u001b[37m\u001b[0m \u001b[1m3s\u001b[0m 532ms/step - accuracy: 0.9805 - loss: 0.0920 - val_accuracy: 1.0000 - val_loss: 9.6911e-04\n",
            "Epoch 6/50\n",
            "\u001b[1m5/5\u001b[0m \u001b[32m━━━━━━━━━━━━━━━━━━━━\u001b[0m\u001b[37m\u001b[0m \u001b[1m4s\u001b[0m 385ms/step - accuracy: 0.9646 - loss: 0.3440 - val_accuracy: 1.0000 - val_loss: 8.3445e-06\n",
            "Epoch 7/50\n",
            "\u001b[1m5/5\u001b[0m \u001b[32m━━━━━━━━━━━━━━━━━━━━\u001b[0m\u001b[37m\u001b[0m \u001b[1m3s\u001b[0m 389ms/step - accuracy: 0.9905 - loss: 0.5148 - val_accuracy: 1.0000 - val_loss: 0.0000e+00\n",
            "Epoch 8/50\n",
            "\u001b[1m5/5\u001b[0m \u001b[32m━━━━━━━━━━━━━━━━━━━━\u001b[0m\u001b[37m\u001b[0m \u001b[1m2s\u001b[0m 379ms/step - accuracy: 0.9751 - loss: 0.3179 - val_accuracy: 1.0000 - val_loss: 7.1526e-08\n",
            "Epoch 9/50\n",
            "\u001b[1m5/5\u001b[0m \u001b[32m━━━━━━━━━━━━━━━━━━━━\u001b[0m\u001b[37m\u001b[0m \u001b[1m4s\u001b[0m 613ms/step - accuracy: 1.0000 - loss: 7.3312e-06 - val_accuracy: 1.0000 - val_loss: 1.8597e-06\n",
            "Epoch 10/50\n",
            "\u001b[1m5/5\u001b[0m \u001b[32m━━━━━━━━━━━━━━━━━━━━\u001b[0m\u001b[37m\u001b[0m \u001b[1m2s\u001b[0m 398ms/step - accuracy: 0.9741 - loss: 0.5555 - val_accuracy: 1.0000 - val_loss: 4.8727e-05\n",
            "Epoch 11/50\n",
            "\u001b[1m5/5\u001b[0m \u001b[32m━━━━━━━━━━━━━━━━━━━━\u001b[0m\u001b[37m\u001b[0m \u001b[1m2s\u001b[0m 391ms/step - accuracy: 0.9766 - loss: 0.1118 - val_accuracy: 1.0000 - val_loss: 8.7052e-05\n",
            "Epoch 12/50\n",
            "\u001b[1m5/5\u001b[0m \u001b[32m━━━━━━━━━━━━━━━━━━━━\u001b[0m\u001b[37m\u001b[0m \u001b[1m3s\u001b[0m 384ms/step - accuracy: 0.9673 - loss: 0.8435 - val_accuracy: 1.0000 - val_loss: 0.0000e+00\n"
          ]
        }
      ]
    },
    {
      "cell_type": "code",
      "source": [
        "test_loss, test_acc = model.evaluate(X_test_fused, y_test_cat)\n",
        "print(f\"\\nTest Accuracy: {test_acc:.2%}\")"
      ],
      "metadata": {
        "colab": {
          "base_uri": "https://localhost:8080/"
        },
        "id": "z_jnRQA7f8xa",
        "outputId": "88fee743-c938-466e-9dbe-e19a2a840536"
      },
      "execution_count": 44,
      "outputs": [
        {
          "output_type": "stream",
          "name": "stdout",
          "text": [
            "\u001b[1m1/1\u001b[0m \u001b[32m━━━━━━━━━━━━━━━━━━━━\u001b[0m\u001b[37m\u001b[0m \u001b[1m0s\u001b[0m 88ms/step - accuracy: 0.9048 - loss: 0.6974\n",
            "\n",
            "Test Accuracy: 90.48%\n"
          ]
        }
      ]
    },
    {
      "cell_type": "markdown",
      "source": [
        "**Predict and Generate Classification Report**"
      ],
      "metadata": {
        "id": "LMgy1mZzp04k"
      }
    },
    {
      "cell_type": "code",
      "source": [
        "from sklearn.metrics import classification_report, confusion_matrix\n",
        "import numpy as np\n",
        "\n",
        "# Predict on test data\n",
        "y_pred_probs = model.predict(X_test_fused)\n",
        "y_pred = np.argmax(y_pred_probs, axis=1)\n",
        "y_true = y_test\n",
        "\n",
        "# Classification report\n",
        "print(\"\\nClassification Report:\\n\")\n",
        "print(classification_report(y_true, y_pred, target_names=[class_map[i] for i in sorted(class_map)]))\n"
      ],
      "metadata": {
        "colab": {
          "base_uri": "https://localhost:8080/"
        },
        "id": "o3IXvTk3wgvG",
        "outputId": "e2dccdde-742d-496a-b92a-f1ad70e2f5de"
      },
      "execution_count": 46,
      "outputs": [
        {
          "output_type": "stream",
          "name": "stdout",
          "text": [
            "\u001b[1m1/1\u001b[0m \u001b[32m━━━━━━━━━━━━━━━━━━━━\u001b[0m\u001b[37m\u001b[0m \u001b[1m0s\u001b[0m 84ms/step\n",
            "\n",
            "Classification Report:\n",
            "\n",
            "                              precision    recall  f1-score   support\n",
            "\n",
            "                        idle       0.75      1.00      0.86         3\n",
            "       with_hook_climbing_up       1.00      1.00      1.00         3\n",
            "   with_hook_descending_down       1.00      1.00      1.00         3\n",
            "    without_hook_climbing_up       1.00      0.67      0.80         6\n",
            "without_hook_descending_down       0.86      1.00      0.92         6\n",
            "\n",
            "                    accuracy                           0.90        21\n",
            "                   macro avg       0.92      0.93      0.92        21\n",
            "                weighted avg       0.92      0.90      0.90        21\n",
            "\n"
          ]
        }
      ]
    },
    {
      "cell_type": "markdown",
      "source": [
        "**Plot confusion matrixt**"
      ],
      "metadata": {
        "id": "IvBTWHd0qBE4"
      }
    },
    {
      "cell_type": "code",
      "source": [
        "import matplotlib.pyplot as plt\n",
        "import seaborn as sns\n",
        "\n",
        "# Confusion matrix\n",
        "cm = confusion_matrix(y_true, y_pred)\n",
        "\n",
        "plt.figure(figsize=(10, 8))\n",
        "sns.heatmap(cm, annot=True, fmt='d', cmap='Blues',\n",
        "            xticklabels=[class_map[i] for i in sorted(class_map)],\n",
        "            yticklabels=[class_map[i] for i in sorted(class_map)])\n",
        "plt.xlabel('Predicted Label')\n",
        "plt.ylabel('True Label')\n",
        "plt.title('Confusion Matrix')\n",
        "plt.tight_layout()\n",
        "plt.show()\n"
      ],
      "metadata": {
        "colab": {
          "base_uri": "https://localhost:8080/",
          "height": 807
        },
        "id": "dXZUFYWyplqv",
        "outputId": "80633e27-6771-4fac-ca47-fae5189a9fa2"
      },
      "execution_count": 47,
      "outputs": [
        {
          "output_type": "display_data",
          "data": {
            "text/plain": [
              "<Figure size 1000x800 with 2 Axes>"
            ],
            "image/png": "[encoded data removed]"
          },
          "metadata": {}
        }
      ]
    },
    {
      "cell_type": "code",
      "source": [
        "model.save(\"fall_detection_model.h5\")\n"
      ],
      "metadata": {
        "colab": {
          "base_uri": "https://localhost:8080/"
        },
        "id": "7nyOv6azqFZv",
        "outputId": "e28ecce8-353f-41f0-97a9-b7f1199970b2"
      },
      "execution_count": 48,
      "outputs": [
        {
          "output_type": "stream",
          "name": "stderr",
          "text": [
            "WARNING:absl:You are saving your model as an HDF5 file via `model.save()` or `keras.saving.save_model(model)`. This file format is considered legacy. We recommend using instead the native Keras format, e.g. `model.save('my_model.keras')` or `keras.saving.save_model(model, 'my_model.keras')`. \n"
          ]
        }
      ]
    },
    {
      "cell_type": "code",
      "source": [],
      "metadata": {
        "id": "7tHWUlIrqO1_"
      },
      "execution_count": null,
      "outputs": []
    }
  ]
}